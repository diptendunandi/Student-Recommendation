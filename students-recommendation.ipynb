{
 "cells": [
  {
   "cell_type": "code",
   "execution_count": 1,
   "id": "1ceca998",
   "metadata": {
    "_cell_guid": "b1076dfc-b9ad-4769-8c92-a6c4dae69d19",
    "_uuid": "8f2839f25d086af736a60e9eeb907d3b93b6e0e5",
    "execution": {
     "iopub.execute_input": "2022-01-28T06:36:07.827351Z",
     "iopub.status.busy": "2022-01-28T06:36:07.825617Z",
     "iopub.status.idle": "2022-01-28T06:36:07.836405Z",
     "shell.execute_reply": "2022-01-28T06:36:07.835740Z",
     "shell.execute_reply.started": "2022-01-28T05:51:01.114950Z"
    },
    "papermill": {
     "duration": 0.023393,
     "end_time": "2022-01-28T06:36:07.836577",
     "exception": false,
     "start_time": "2022-01-28T06:36:07.813184",
     "status": "completed"
    },
    "tags": []
   },
   "outputs": [],
   "source": [
    "import os\n",
    "import numpy as np\n",
    "import pandas as pd"
   ]
  },
  {
   "cell_type": "code",
   "execution_count": 2,
   "id": "cae4f450",
   "metadata": {
    "execution": {
     "iopub.execute_input": "2022-01-28T06:36:07.855448Z",
     "iopub.status.busy": "2022-01-28T06:36:07.854685Z",
     "iopub.status.idle": "2022-01-28T06:36:19.399868Z",
     "shell.execute_reply": "2022-01-28T06:36:19.399251Z",
     "shell.execute_reply.started": "2022-01-28T06:03:18.617930Z"
    },
    "papermill": {
     "duration": 11.556389,
     "end_time": "2022-01-28T06:36:19.400155",
     "exception": false,
     "start_time": "2022-01-28T06:36:07.843766",
     "status": "completed"
    },
    "tags": []
   },
   "outputs": [
    {
     "name": "stdout",
     "output_type": "stream",
     "text": [
      "Collecting openpyxl\r\n",
      "  Downloading openpyxl-3.0.9-py2.py3-none-any.whl (242 kB)\r\n",
      "     |████████████████████████████████| 242 kB 290 kB/s            \r\n",
      "\u001b[?25hCollecting et-xmlfile\r\n",
      "  Downloading et_xmlfile-1.1.0-py3-none-any.whl (4.7 kB)\r\n",
      "Installing collected packages: et-xmlfile, openpyxl\r\n",
      "Successfully installed et-xmlfile-1.1.0 openpyxl-3.0.9\r\n",
      "\u001b[33mWARNING: Running pip as the 'root' user can result in broken permissions and conflicting behaviour with the system package manager. It is recommended to use a virtual environment instead: https://pip.pypa.io/warnings/venv\u001b[0m\r\n",
      "Note: you may need to restart the kernel to use updated packages.\n"
     ]
    }
   ],
   "source": [
    " pip install openpyxl"
   ]
  },
  {
   "cell_type": "code",
   "execution_count": 3,
   "id": "462bee49",
   "metadata": {
    "execution": {
     "iopub.execute_input": "2022-01-28T06:36:19.425254Z",
     "iopub.status.busy": "2022-01-28T06:36:19.424639Z",
     "iopub.status.idle": "2022-01-28T06:36:19.770685Z",
     "shell.execute_reply": "2022-01-28T06:36:19.770070Z",
     "shell.execute_reply.started": "2022-01-28T06:04:02.367890Z"
    },
    "papermill": {
     "duration": 0.360458,
     "end_time": "2022-01-28T06:36:19.770829",
     "exception": false,
     "start_time": "2022-01-28T06:36:19.410371",
     "status": "completed"
    },
    "tags": []
   },
   "outputs": [
    {
     "data": {
      "text/html": [
       "<div>\n",
       "<style scoped>\n",
       "    .dataframe tbody tr th:only-of-type {\n",
       "        vertical-align: middle;\n",
       "    }\n",
       "\n",
       "    .dataframe tbody tr th {\n",
       "        vertical-align: top;\n",
       "    }\n",
       "\n",
       "    .dataframe thead th {\n",
       "        text-align: right;\n",
       "    }\n",
       "</style>\n",
       "<table border=\"1\" class=\"dataframe\">\n",
       "  <thead>\n",
       "    <tr style=\"text-align: right;\">\n",
       "      <th></th>\n",
       "      <th>Student</th>\n",
       "      <th>CGP</th>\n",
       "      <th>Projects</th>\n",
       "    </tr>\n",
       "  </thead>\n",
       "  <tbody>\n",
       "    <tr>\n",
       "      <th>0</th>\n",
       "      <td>Akshat</td>\n",
       "      <td>9.2</td>\n",
       "      <td>2</td>\n",
       "    </tr>\n",
       "    <tr>\n",
       "      <th>1</th>\n",
       "      <td>Dip</td>\n",
       "      <td>9.4</td>\n",
       "      <td>7</td>\n",
       "    </tr>\n",
       "    <tr>\n",
       "      <th>2</th>\n",
       "      <td>Kunal</td>\n",
       "      <td>9.7</td>\n",
       "      <td>4</td>\n",
       "    </tr>\n",
       "    <tr>\n",
       "      <th>3</th>\n",
       "      <td>Sanjay</td>\n",
       "      <td>10.0</td>\n",
       "      <td>9</td>\n",
       "    </tr>\n",
       "    <tr>\n",
       "      <th>4</th>\n",
       "      <td>Indu</td>\n",
       "      <td>9.3</td>\n",
       "      <td>1</td>\n",
       "    </tr>\n",
       "  </tbody>\n",
       "</table>\n",
       "</div>"
      ],
      "text/plain": [
       "  Student   CGP  Projects\n",
       "0  Akshat   9.2         2\n",
       "1     Dip   9.4         7\n",
       "2   Kunal   9.7         4\n",
       "3  Sanjay  10.0         9\n",
       "4    Indu   9.3         1"
      ]
     },
     "execution_count": 3,
     "metadata": {},
     "output_type": "execute_result"
    }
   ],
   "source": [
    "df = pd.read_excel('../input/student-recommendation/studentdata.xlsx')\n",
    "df"
   ]
  },
  {
   "cell_type": "code",
   "execution_count": 4,
   "id": "d70bbbc2",
   "metadata": {
    "execution": {
     "iopub.execute_input": "2022-01-28T06:36:19.798861Z",
     "iopub.status.busy": "2022-01-28T06:36:19.798277Z",
     "iopub.status.idle": "2022-01-28T06:36:19.803774Z",
     "shell.execute_reply": "2022-01-28T06:36:19.804232Z",
     "shell.execute_reply.started": "2022-01-28T06:18:34.780633Z"
    },
    "papermill": {
     "duration": 0.023638,
     "end_time": "2022-01-28T06:36:19.804405",
     "exception": false,
     "start_time": "2022-01-28T06:36:19.780767",
     "status": "completed"
    },
    "tags": []
   },
   "outputs": [
    {
     "data": {
      "text/plain": [
       "Student     0\n",
       "CGP         0\n",
       "Projects    0\n",
       "dtype: int64"
      ]
     },
     "execution_count": 4,
     "metadata": {},
     "output_type": "execute_result"
    }
   ],
   "source": [
    "df.isnull().sum()"
   ]
  },
  {
   "cell_type": "code",
   "execution_count": 5,
   "id": "a83235c9",
   "metadata": {
    "execution": {
     "iopub.execute_input": "2022-01-28T06:36:19.837935Z",
     "iopub.status.busy": "2022-01-28T06:36:19.837303Z",
     "iopub.status.idle": "2022-01-28T06:36:19.840254Z",
     "shell.execute_reply": "2022-01-28T06:36:19.839739Z",
     "shell.execute_reply.started": "2022-01-28T06:19:16.242876Z"
    },
    "papermill": {
     "duration": 0.025585,
     "end_time": "2022-01-28T06:36:19.840385",
     "exception": false,
     "start_time": "2022-01-28T06:36:19.814800",
     "status": "completed"
    },
    "tags": []
   },
   "outputs": [
    {
     "data": {
      "text/plain": [
       "0"
      ]
     },
     "execution_count": 5,
     "metadata": {},
     "output_type": "execute_result"
    }
   ],
   "source": [
    "df.duplicated().sum()"
   ]
  },
  {
   "cell_type": "code",
   "execution_count": 6,
   "id": "00c902d6",
   "metadata": {
    "execution": {
     "iopub.execute_input": "2022-01-28T06:36:19.864329Z",
     "iopub.status.busy": "2022-01-28T06:36:19.863538Z",
     "iopub.status.idle": "2022-01-28T06:36:19.868395Z",
     "shell.execute_reply": "2022-01-28T06:36:19.868947Z",
     "shell.execute_reply.started": "2022-01-28T06:26:38.392550Z"
    },
    "papermill": {
     "duration": 0.018296,
     "end_time": "2022-01-28T06:36:19.869126",
     "exception": false,
     "start_time": "2022-01-28T06:36:19.850830",
     "status": "completed"
    },
    "tags": []
   },
   "outputs": [
    {
     "data": {
      "text/plain": [
       "10.0"
      ]
     },
     "execution_count": 6,
     "metadata": {},
     "output_type": "execute_result"
    }
   ],
   "source": [
    "df.CGP.max()"
   ]
  },
  {
   "cell_type": "code",
   "execution_count": 7,
   "id": "95b29b97",
   "metadata": {
    "execution": {
     "iopub.execute_input": "2022-01-28T06:36:19.895645Z",
     "iopub.status.busy": "2022-01-28T06:36:19.895024Z",
     "iopub.status.idle": "2022-01-28T06:36:19.899063Z",
     "shell.execute_reply": "2022-01-28T06:36:19.898514Z",
     "shell.execute_reply.started": "2022-01-28T06:27:16.017405Z"
    },
    "papermill": {
     "duration": 0.01948,
     "end_time": "2022-01-28T06:36:19.899212",
     "exception": false,
     "start_time": "2022-01-28T06:36:19.879732",
     "status": "completed"
    },
    "tags": []
   },
   "outputs": [
    {
     "data": {
      "text/plain": [
       "9"
      ]
     },
     "execution_count": 7,
     "metadata": {},
     "output_type": "execute_result"
    }
   ],
   "source": [
    "df.Projects.max()"
   ]
  },
  {
   "cell_type": "code",
   "execution_count": 8,
   "id": "a0f9db0a",
   "metadata": {
    "execution": {
     "iopub.execute_input": "2022-01-28T06:36:19.924266Z",
     "iopub.status.busy": "2022-01-28T06:36:19.923659Z",
     "iopub.status.idle": "2022-01-28T06:36:19.935609Z",
     "shell.execute_reply": "2022-01-28T06:36:19.936095Z",
     "shell.execute_reply.started": "2022-01-28T06:34:02.820941Z"
    },
    "papermill": {
     "duration": 0.025963,
     "end_time": "2022-01-28T06:36:19.936262",
     "exception": false,
     "start_time": "2022-01-28T06:36:19.910299",
     "status": "completed"
    },
    "tags": []
   },
   "outputs": [
    {
     "data": {
      "text/html": [
       "<div>\n",
       "<style scoped>\n",
       "    .dataframe tbody tr th:only-of-type {\n",
       "        vertical-align: middle;\n",
       "    }\n",
       "\n",
       "    .dataframe tbody tr th {\n",
       "        vertical-align: top;\n",
       "    }\n",
       "\n",
       "    .dataframe thead th {\n",
       "        text-align: right;\n",
       "    }\n",
       "</style>\n",
       "<table border=\"1\" class=\"dataframe\">\n",
       "  <thead>\n",
       "    <tr style=\"text-align: right;\">\n",
       "      <th></th>\n",
       "      <th>Student</th>\n",
       "      <th>CGP</th>\n",
       "      <th>Projects</th>\n",
       "    </tr>\n",
       "  </thead>\n",
       "  <tbody>\n",
       "    <tr>\n",
       "      <th>1</th>\n",
       "      <td>Dip</td>\n",
       "      <td>9.4</td>\n",
       "      <td>7</td>\n",
       "    </tr>\n",
       "    <tr>\n",
       "      <th>2</th>\n",
       "      <td>Kunal</td>\n",
       "      <td>9.7</td>\n",
       "      <td>4</td>\n",
       "    </tr>\n",
       "    <tr>\n",
       "      <th>3</th>\n",
       "      <td>Sanjay</td>\n",
       "      <td>10.0</td>\n",
       "      <td>9</td>\n",
       "    </tr>\n",
       "    <tr>\n",
       "      <th>4</th>\n",
       "      <td>Indu</td>\n",
       "      <td>9.3</td>\n",
       "      <td>1</td>\n",
       "    </tr>\n",
       "  </tbody>\n",
       "</table>\n",
       "</div>"
      ],
      "text/plain": [
       "  Student   CGP  Projects\n",
       "1     Dip   9.4         7\n",
       "2   Kunal   9.7         4\n",
       "3  Sanjay  10.0         9\n",
       "4    Indu   9.3         1"
      ]
     },
     "execution_count": 8,
     "metadata": {},
     "output_type": "execute_result"
    }
   ],
   "source": [
    "df_filtered = df[df['CGP'] >= 9.3]\n",
    "df_filtered"
   ]
  },
  {
   "cell_type": "code",
   "execution_count": 9,
   "id": "104842a1",
   "metadata": {
    "execution": {
     "iopub.execute_input": "2022-01-28T06:36:19.969423Z",
     "iopub.status.busy": "2022-01-28T06:36:19.968768Z",
     "iopub.status.idle": "2022-01-28T06:36:19.971411Z",
     "shell.execute_reply": "2022-01-28T06:36:19.971836Z",
     "shell.execute_reply.started": "2022-01-28T06:34:28.942927Z"
    },
    "papermill": {
     "duration": 0.023989,
     "end_time": "2022-01-28T06:36:19.972013",
     "exception": false,
     "start_time": "2022-01-28T06:36:19.948024",
     "status": "completed"
    },
    "tags": []
   },
   "outputs": [
    {
     "data": {
      "text/html": [
       "<div>\n",
       "<style scoped>\n",
       "    .dataframe tbody tr th:only-of-type {\n",
       "        vertical-align: middle;\n",
       "    }\n",
       "\n",
       "    .dataframe tbody tr th {\n",
       "        vertical-align: top;\n",
       "    }\n",
       "\n",
       "    .dataframe thead th {\n",
       "        text-align: right;\n",
       "    }\n",
       "</style>\n",
       "<table border=\"1\" class=\"dataframe\">\n",
       "  <thead>\n",
       "    <tr style=\"text-align: right;\">\n",
       "      <th></th>\n",
       "      <th>Student</th>\n",
       "      <th>CGP</th>\n",
       "      <th>Projects</th>\n",
       "    </tr>\n",
       "  </thead>\n",
       "  <tbody>\n",
       "    <tr>\n",
       "      <th>3</th>\n",
       "      <td>Sanjay</td>\n",
       "      <td>10.0</td>\n",
       "      <td>9</td>\n",
       "    </tr>\n",
       "    <tr>\n",
       "      <th>1</th>\n",
       "      <td>Dip</td>\n",
       "      <td>9.4</td>\n",
       "      <td>7</td>\n",
       "    </tr>\n",
       "    <tr>\n",
       "      <th>2</th>\n",
       "      <td>Kunal</td>\n",
       "      <td>9.7</td>\n",
       "      <td>4</td>\n",
       "    </tr>\n",
       "    <tr>\n",
       "      <th>4</th>\n",
       "      <td>Indu</td>\n",
       "      <td>9.3</td>\n",
       "      <td>1</td>\n",
       "    </tr>\n",
       "  </tbody>\n",
       "</table>\n",
       "</div>"
      ],
      "text/plain": [
       "  Student   CGP  Projects\n",
       "3  Sanjay  10.0         9\n",
       "1     Dip   9.4         7\n",
       "2   Kunal   9.7         4\n",
       "4    Indu   9.3         1"
      ]
     },
     "execution_count": 9,
     "metadata": {},
     "output_type": "execute_result"
    }
   ],
   "source": [
    "df_filtered.sort_values(by=['Projects'],ascending=False)"
   ]
  }
 ],
 "metadata": {
  "kernelspec": {
   "display_name": "Python 3",
   "language": "python",
   "name": "python3"
  },
  "language_info": {
   "codemirror_mode": {
    "name": "ipython",
    "version": 3
   },
   "file_extension": ".py",
   "mimetype": "text/x-python",
   "name": "python",
   "nbconvert_exporter": "python",
   "pygments_lexer": "ipython3",
   "version": "3.7.12"
  },
  "papermill": {
   "default_parameters": {},
   "duration": 21.451308,
   "end_time": "2022-01-28T06:36:20.591876",
   "environment_variables": {},
   "exception": null,
   "input_path": "__notebook__.ipynb",
   "output_path": "__notebook__.ipynb",
   "parameters": {},
   "start_time": "2022-01-28T06:35:59.140568",
   "version": "2.3.3"
  }
 },
 "nbformat": 4,
 "nbformat_minor": 5
}
